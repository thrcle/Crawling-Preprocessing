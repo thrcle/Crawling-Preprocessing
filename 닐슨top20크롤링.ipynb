{
  "nbformat": 4,
  "nbformat_minor": 0,
  "metadata": {
    "colab": {
      "name": "닐슨top20크롤링.ipynb",
      "provenance": [],
      "collapsed_sections": [],
      "mount_file_id": "1c3qSpCFupcaO6VtJSoP-OE0p2CQGzv1f",
      "authorship_tag": "ABX9TyNHB9fYOBkDEfw/3p/FRE58",
      "include_colab_link": true
    },
    "kernelspec": {
      "name": "python3",
      "display_name": "Python 3"
    },
    "language_info": {
      "name": "python"
    },
    "gpuClass": "standard"
  },
  "cells": [
    {
      "cell_type": "markdown",
      "metadata": {
        "id": "view-in-github",
        "colab_type": "text"
      },
      "source": [
        "<a href=\"https://colab.research.google.com/github/thrcle/Crawling-Preprocessing/blob/main/%EB%8B%90%EC%8A%A8top20%ED%81%AC%EB%A1%A4%EB%A7%81.ipynb\" target=\"_parent\"><img src=\"https://colab.research.google.com/assets/colab-badge.svg\" alt=\"Open In Colab\"/></a>"
      ]
    },
    {
      "cell_type": "code",
      "source": [
        "!pip install BeautifulSoup"
      ],
      "metadata": {
        "colab": {
          "base_uri": "https://localhost:8080/"
        },
        "id": "ByeKXUPnTSke",
        "outputId": "3a48b413-1d3e-45d1-f6b7-bedc716592b6"
      },
      "execution_count": null,
      "outputs": [
        {
          "output_type": "stream",
          "name": "stdout",
          "text": [
            "Looking in indexes: https://pypi.org/simple, https://us-python.pkg.dev/colab-wheels/public/simple/\n",
            "Collecting BeautifulSoup\n",
            "  Using cached BeautifulSoup-3.2.2.tar.gz (32 kB)\n",
            "\u001b[33mWARNING: Discarding https://files.pythonhosted.org/packages/40/f2/6c9f2f3e696ee6a1fb0e4d7850617e224ed2b0b1e872110abffeca2a09d4/BeautifulSoup-3.2.2.tar.gz#sha256=a04169602bff6e3138b1259dbbf491f5a27f9499dea9a8fbafd48843f9d89970 (from https://pypi.org/simple/beautifulsoup/). Command errored out with exit status 1: python setup.py egg_info Check the logs for full command output.\u001b[0m\n",
            "  Using cached BeautifulSoup-3.2.1.tar.gz (31 kB)\n",
            "\u001b[33mWARNING: Discarding https://files.pythonhosted.org/packages/1e/ee/295988deca1a5a7accd783d0dfe14524867e31abb05b6c0eeceee49c759d/BeautifulSoup-3.2.1.tar.gz#sha256=6a8cb4401111e011b579c8c52a51cdab970041cc543814bbd9577a4529fe1cdb (from https://pypi.org/simple/beautifulsoup/). Command errored out with exit status 1: python setup.py egg_info Check the logs for full command output.\u001b[0m\n",
            "  Using cached BeautifulSoup-3.2.0.tar.gz (31 kB)\n",
            "\u001b[33mWARNING: Discarding https://files.pythonhosted.org/packages/33/fe/15326560884f20d792d3ffc7fe8f639aab88647c9d46509a240d9bfbb6b1/BeautifulSoup-3.2.0.tar.gz#sha256=0dc52d07516c1665c9dd9f0a390a7a054bfb7b147a50b2866fb116b8909dfd37 (from https://pypi.org/simple/beautifulsoup/). Command errored out with exit status 1: python setup.py egg_info Check the logs for full command output.\u001b[0m\n",
            "\u001b[31mERROR: Could not find a version that satisfies the requirement BeautifulSoup (from versions: 3.2.0, 3.2.1, 3.2.2)\u001b[0m\n",
            "\u001b[31mERROR: No matching distribution found for BeautifulSoup\u001b[0m\n"
          ]
        }
      ]
    },
    {
      "cell_type": "code",
      "execution_count": null,
      "metadata": {
        "id": "HIayUW2rSczr"
      },
      "outputs": [],
      "source": [
        "from bs4 import BeautifulSoup\n",
        "# os : 운영체제 모듈\n",
        "# re : 정규식 모듈 re, \n",
        "# usecsv : CSV파일을 저장할 때 필요\n",
        "import os, re\n",
        "# requests : URL주소에 있는 내용 요청시 사용\n",
        "import requests \n",
        "import urllib.request as ur \n",
        "\n",
        "from bs4 import BeautifulSoup as bs\n",
        "\n",
        "import pandas as pd\n",
        "import datetime"
      ]
    },
    {
      "cell_type": "markdown",
      "source": [
        "# 웹문서 자료를 가져와 가공하기"
      ],
      "metadata": {
        "id": "2RV2ed8AUR_w"
      }
    },
    {
      "cell_type": "code",
      "source": [
        "# 1) urlopen으로 웹사이트 정보 가져오기\n",
        "date=20170501\n",
        "url='https://www.nielsenkorea.co.kr/tv_terrestrial_day.asp?menu=Tit_1&sub_menu=1_1&area=00&begin_date='+str(date)\n",
        "html=ur.urlopen(url)\n",
        "\n",
        "\n",
        "# 2) 뷰티풀수프로 자료형 변환하기\n",
        "# : 뷰티풀수프를 활용해 html객체에 저장한 자료를 파싱하기 쉬운 형태로 변환 \n",
        "# 파싱 : 웹문서에서 원하는 패턴이나 순서로 자료를 추출해 가공하는 것\n",
        "\n",
        "soup=bs(html.read(),'html.parser')\n",
        "\n",
        "# 1+2 \n",
        "soup=bs(ur.urlopen(url).read(),'html.parser')"
      ],
      "metadata": {
        "id": "3wZrso00UbPJ"
      },
      "execution_count": null,
      "outputs": []
    },
    {
      "cell_type": "code",
      "source": [
        ""
      ],
      "metadata": {
        "id": "pj4rsUOlVYyq"
      },
      "execution_count": null,
      "outputs": []
    },
    {
      "cell_type": "markdown",
      "source": [
        " # 특정 태그에서 텍스트만 추출하기\n",
        "\n",
        "---\n",
        "\n",
        "\n",
        " "
      ],
      "metadata": {
        "id": "UykMPYYxW9V_"
      }
    },
    {
      "cell_type": "code",
      "source": [
        "# 웹문서 자료를 가져와 가공하기\n",
        "date=20170501\n",
        "url='https://www.nielsenkorea.co.kr/tv_terrestrial_day.asp?menu=Tit_1&sub_menu=1_1&area=00&begin_date='+str(date)\n",
        "soup=bs(ur.urlopen(url).read(),'html.parser')\n",
        "\n",
        "\n",
        " # 특정 태그에서 텍스트만 추출하기\n",
        "rank=[]\n",
        "for i in range(len(soup.find_all('td',{\"class\":\"tb_txt_center\"}))//2):\n",
        "  rank.append(soup.find_all('td',{\"class\":\"tb_txt_center\"})[2*i].text.replace('\\t',''))\n",
        "\n",
        "bc=[]\n",
        "for i in range(len(soup.find_all('td',{\"class\":\"tb_txt_center\"}))//2):\n",
        "  bc.append(soup.find_all('td',{\"class\":\"tb_txt_center\"})[2*i+1].text.replace('\\t',''))\n",
        "\n",
        "program=[]\n",
        "for i in range(len(soup.find_all('td',{\"class\":\"tb_txt\"}))):\n",
        "  program.append(soup.find_all('td',{\"class\":\"tb_txt\"})[i].text.replace('\\t',''))\n",
        "\n",
        "percent=[]\n",
        "\n",
        "for i in range(len(soup.find_all('td',{\"class\":\"percent\"}))):\n",
        "  percent.append(soup.find_all('td',{\"class\":\"percent\"})[i].text.strip())\n",
        "\n",
        "for i in range(len(soup.find_all('td',{\"class\":\"percent_g\"}))):\n",
        "  percent.append(soup.find_all('td',{\"class\":\"percent_g\"})[i].text.strip())\n",
        "\n",
        "# 데이터프레임에 담기 \n",
        "df=pd.DataFrame({\"rank\":rank,\"bc\":bc, \"program\":program, \"percent\":percent})\n",
        "df.index=df.index+1\n",
        "df"
      ],
      "metadata": {
        "colab": {
          "base_uri": "https://localhost:8080/",
          "height": 677
        },
        "id": "naV8CcI1omjN",
        "outputId": "20154b94-f80b-4584-9078-4dd0c965f9b0"
      },
      "execution_count": null,
      "outputs": [
        {
          "output_type": "execute_result",
          "data": {
            "text/plain": [
              "   rank    bc            program percent\n",
              "1     1  KBS1       일일연속극(빛나라은수)    25.9\n",
              "2     2  KBS1            KBS9시뉴스    19.0\n",
              "3     3   SBS         월화드라마(귓속말)    16.0\n",
              "4     4  KBS2      일일드라마(이름없는여자)    15.0\n",
              "5     5   MBC  월화특별기획(역적백성을훔친도적)    13.0\n",
              "6     6   SBS     아침연속극(아임쏘리강남구)    10.2\n",
              "7     7  KBS1               인간극장     9.8\n",
              "8     8   MBC     일일드라마(행복을주는사람)     9.1\n",
              "9     9  KBS1          KBS뉴스광장2부     8.8\n",
              "10   10   MBC      일일특별기획(황금주머니)     8.7\n",
              "11   11  KBS1             KBS뉴스7     8.5\n",
              "12   12  KBS1               가요무대     7.8\n",
              "13   13  KBS1              6시내고향     7.7\n",
              "14   13   SBS     일일드라마(사랑은방울방울)     7.7\n",
              "15   15  KBS1          대통령선거방송연설     7.6\n",
              "16   16  KBS2       TV소설(그여자의바다)     7.2\n",
              "17   17  KBS1               아침마당     7.0\n",
              "18   18   MBC           MBC뉴스데스크     6.8\n",
              "19   18   MBC    MBC아침드라마(훈장오순남)     6.8\n",
              "20   20  KBS1        시청자칼럼우리사는세상     6.6"
            ],
            "text/html": [
              "\n",
              "  <div id=\"df-ae0d86d2-21f3-44c0-8c46-6640110b228e\">\n",
              "    <div class=\"colab-df-container\">\n",
              "      <div>\n",
              "<style scoped>\n",
              "    .dataframe tbody tr th:only-of-type {\n",
              "        vertical-align: middle;\n",
              "    }\n",
              "\n",
              "    .dataframe tbody tr th {\n",
              "        vertical-align: top;\n",
              "    }\n",
              "\n",
              "    .dataframe thead th {\n",
              "        text-align: right;\n",
              "    }\n",
              "</style>\n",
              "<table border=\"1\" class=\"dataframe\">\n",
              "  <thead>\n",
              "    <tr style=\"text-align: right;\">\n",
              "      <th></th>\n",
              "      <th>rank</th>\n",
              "      <th>bc</th>\n",
              "      <th>program</th>\n",
              "      <th>percent</th>\n",
              "    </tr>\n",
              "  </thead>\n",
              "  <tbody>\n",
              "    <tr>\n",
              "      <th>1</th>\n",
              "      <td>1</td>\n",
              "      <td>KBS1</td>\n",
              "      <td>일일연속극(빛나라은수)</td>\n",
              "      <td>25.9</td>\n",
              "    </tr>\n",
              "    <tr>\n",
              "      <th>2</th>\n",
              "      <td>2</td>\n",
              "      <td>KBS1</td>\n",
              "      <td>KBS9시뉴스</td>\n",
              "      <td>19.0</td>\n",
              "    </tr>\n",
              "    <tr>\n",
              "      <th>3</th>\n",
              "      <td>3</td>\n",
              "      <td>SBS</td>\n",
              "      <td>월화드라마(귓속말)</td>\n",
              "      <td>16.0</td>\n",
              "    </tr>\n",
              "    <tr>\n",
              "      <th>4</th>\n",
              "      <td>4</td>\n",
              "      <td>KBS2</td>\n",
              "      <td>일일드라마(이름없는여자)</td>\n",
              "      <td>15.0</td>\n",
              "    </tr>\n",
              "    <tr>\n",
              "      <th>5</th>\n",
              "      <td>5</td>\n",
              "      <td>MBC</td>\n",
              "      <td>월화특별기획(역적백성을훔친도적)</td>\n",
              "      <td>13.0</td>\n",
              "    </tr>\n",
              "    <tr>\n",
              "      <th>6</th>\n",
              "      <td>6</td>\n",
              "      <td>SBS</td>\n",
              "      <td>아침연속극(아임쏘리강남구)</td>\n",
              "      <td>10.2</td>\n",
              "    </tr>\n",
              "    <tr>\n",
              "      <th>7</th>\n",
              "      <td>7</td>\n",
              "      <td>KBS1</td>\n",
              "      <td>인간극장</td>\n",
              "      <td>9.8</td>\n",
              "    </tr>\n",
              "    <tr>\n",
              "      <th>8</th>\n",
              "      <td>8</td>\n",
              "      <td>MBC</td>\n",
              "      <td>일일드라마(행복을주는사람)</td>\n",
              "      <td>9.1</td>\n",
              "    </tr>\n",
              "    <tr>\n",
              "      <th>9</th>\n",
              "      <td>9</td>\n",
              "      <td>KBS1</td>\n",
              "      <td>KBS뉴스광장2부</td>\n",
              "      <td>8.8</td>\n",
              "    </tr>\n",
              "    <tr>\n",
              "      <th>10</th>\n",
              "      <td>10</td>\n",
              "      <td>MBC</td>\n",
              "      <td>일일특별기획(황금주머니)</td>\n",
              "      <td>8.7</td>\n",
              "    </tr>\n",
              "    <tr>\n",
              "      <th>11</th>\n",
              "      <td>11</td>\n",
              "      <td>KBS1</td>\n",
              "      <td>KBS뉴스7</td>\n",
              "      <td>8.5</td>\n",
              "    </tr>\n",
              "    <tr>\n",
              "      <th>12</th>\n",
              "      <td>12</td>\n",
              "      <td>KBS1</td>\n",
              "      <td>가요무대</td>\n",
              "      <td>7.8</td>\n",
              "    </tr>\n",
              "    <tr>\n",
              "      <th>13</th>\n",
              "      <td>13</td>\n",
              "      <td>KBS1</td>\n",
              "      <td>6시내고향</td>\n",
              "      <td>7.7</td>\n",
              "    </tr>\n",
              "    <tr>\n",
              "      <th>14</th>\n",
              "      <td>13</td>\n",
              "      <td>SBS</td>\n",
              "      <td>일일드라마(사랑은방울방울)</td>\n",
              "      <td>7.7</td>\n",
              "    </tr>\n",
              "    <tr>\n",
              "      <th>15</th>\n",
              "      <td>15</td>\n",
              "      <td>KBS1</td>\n",
              "      <td>대통령선거방송연설</td>\n",
              "      <td>7.6</td>\n",
              "    </tr>\n",
              "    <tr>\n",
              "      <th>16</th>\n",
              "      <td>16</td>\n",
              "      <td>KBS2</td>\n",
              "      <td>TV소설(그여자의바다)</td>\n",
              "      <td>7.2</td>\n",
              "    </tr>\n",
              "    <tr>\n",
              "      <th>17</th>\n",
              "      <td>17</td>\n",
              "      <td>KBS1</td>\n",
              "      <td>아침마당</td>\n",
              "      <td>7.0</td>\n",
              "    </tr>\n",
              "    <tr>\n",
              "      <th>18</th>\n",
              "      <td>18</td>\n",
              "      <td>MBC</td>\n",
              "      <td>MBC뉴스데스크</td>\n",
              "      <td>6.8</td>\n",
              "    </tr>\n",
              "    <tr>\n",
              "      <th>19</th>\n",
              "      <td>18</td>\n",
              "      <td>MBC</td>\n",
              "      <td>MBC아침드라마(훈장오순남)</td>\n",
              "      <td>6.8</td>\n",
              "    </tr>\n",
              "    <tr>\n",
              "      <th>20</th>\n",
              "      <td>20</td>\n",
              "      <td>KBS1</td>\n",
              "      <td>시청자칼럼우리사는세상</td>\n",
              "      <td>6.6</td>\n",
              "    </tr>\n",
              "  </tbody>\n",
              "</table>\n",
              "</div>\n",
              "      <button class=\"colab-df-convert\" onclick=\"convertToInteractive('df-ae0d86d2-21f3-44c0-8c46-6640110b228e')\"\n",
              "              title=\"Convert this dataframe to an interactive table.\"\n",
              "              style=\"display:none;\">\n",
              "        \n",
              "  <svg xmlns=\"http://www.w3.org/2000/svg\" height=\"24px\"viewBox=\"0 0 24 24\"\n",
              "       width=\"24px\">\n",
              "    <path d=\"M0 0h24v24H0V0z\" fill=\"none\"/>\n",
              "    <path d=\"M18.56 5.44l.94 2.06.94-2.06 2.06-.94-2.06-.94-.94-2.06-.94 2.06-2.06.94zm-11 1L8.5 8.5l.94-2.06 2.06-.94-2.06-.94L8.5 2.5l-.94 2.06-2.06.94zm10 10l.94 2.06.94-2.06 2.06-.94-2.06-.94-.94-2.06-.94 2.06-2.06.94z\"/><path d=\"M17.41 7.96l-1.37-1.37c-.4-.4-.92-.59-1.43-.59-.52 0-1.04.2-1.43.59L10.3 9.45l-7.72 7.72c-.78.78-.78 2.05 0 2.83L4 21.41c.39.39.9.59 1.41.59.51 0 1.02-.2 1.41-.59l7.78-7.78 2.81-2.81c.8-.78.8-2.07 0-2.86zM5.41 20L4 18.59l7.72-7.72 1.47 1.35L5.41 20z\"/>\n",
              "  </svg>\n",
              "      </button>\n",
              "      \n",
              "  <style>\n",
              "    .colab-df-container {\n",
              "      display:flex;\n",
              "      flex-wrap:wrap;\n",
              "      gap: 12px;\n",
              "    }\n",
              "\n",
              "    .colab-df-convert {\n",
              "      background-color: #E8F0FE;\n",
              "      border: none;\n",
              "      border-radius: 50%;\n",
              "      cursor: pointer;\n",
              "      display: none;\n",
              "      fill: #1967D2;\n",
              "      height: 32px;\n",
              "      padding: 0 0 0 0;\n",
              "      width: 32px;\n",
              "    }\n",
              "\n",
              "    .colab-df-convert:hover {\n",
              "      background-color: #E2EBFA;\n",
              "      box-shadow: 0px 1px 2px rgba(60, 64, 67, 0.3), 0px 1px 3px 1px rgba(60, 64, 67, 0.15);\n",
              "      fill: #174EA6;\n",
              "    }\n",
              "\n",
              "    [theme=dark] .colab-df-convert {\n",
              "      background-color: #3B4455;\n",
              "      fill: #D2E3FC;\n",
              "    }\n",
              "\n",
              "    [theme=dark] .colab-df-convert:hover {\n",
              "      background-color: #434B5C;\n",
              "      box-shadow: 0px 1px 3px 1px rgba(0, 0, 0, 0.15);\n",
              "      filter: drop-shadow(0px 1px 2px rgba(0, 0, 0, 0.3));\n",
              "      fill: #FFFFFF;\n",
              "    }\n",
              "  </style>\n",
              "\n",
              "      <script>\n",
              "        const buttonEl =\n",
              "          document.querySelector('#df-ae0d86d2-21f3-44c0-8c46-6640110b228e button.colab-df-convert');\n",
              "        buttonEl.style.display =\n",
              "          google.colab.kernel.accessAllowed ? 'block' : 'none';\n",
              "\n",
              "        async function convertToInteractive(key) {\n",
              "          const element = document.querySelector('#df-ae0d86d2-21f3-44c0-8c46-6640110b228e');\n",
              "          const dataTable =\n",
              "            await google.colab.kernel.invokeFunction('convertToInteractive',\n",
              "                                                     [key], {});\n",
              "          if (!dataTable) return;\n",
              "\n",
              "          const docLinkHtml = 'Like what you see? Visit the ' +\n",
              "            '<a target=\"_blank\" href=https://colab.research.google.com/notebooks/data_table.ipynb>data table notebook</a>'\n",
              "            + ' to learn more about interactive tables.';\n",
              "          element.innerHTML = '';\n",
              "          dataTable['output_type'] = 'display_data';\n",
              "          await google.colab.output.renderOutput(dataTable, element);\n",
              "          const docLink = document.createElement('div');\n",
              "          docLink.innerHTML = docLinkHtml;\n",
              "          element.appendChild(docLink);\n",
              "        }\n",
              "      </script>\n",
              "    </div>\n",
              "  </div>\n",
              "  "
            ]
          },
          "metadata": {},
          "execution_count": 24
        }
      ]
    },
    {
      "cell_type": "code",
      "source": [
        "# csv로 저장 \n",
        "df.to_csv(\"/content/drive/MyDrive/Remote Internship/크롤링/c.csv\",header=False, index=False)"
      ],
      "metadata": {
        "id": "dmX_0_n9tA1t"
      },
      "execution_count": null,
      "outputs": []
    },
    {
      "cell_type": "markdown",
      "source": [
        "반복문"
      ],
      "metadata": {
        "id": "BDaeXKsatpgD"
      }
    },
    {
      "cell_type": "code",
      "source": [
        "b=datetime.datetime(2017,5,1)\n",
        "a=b+datetime.timedelta(days=1)\n",
        "a=a.strftime('%Y%m%d')\n",
        "\n",
        "a"
      ],
      "metadata": {
        "colab": {
          "base_uri": "https://localhost:8080/",
          "height": 36
        },
        "id": "o6GWJhpxvDb9",
        "outputId": "92d9fe4f-1ba2-4b64-d021-a1abc2f99547"
      },
      "execution_count": null,
      "outputs": [
        {
          "output_type": "execute_result",
          "data": {
            "text/plain": [
              "'20170502'"
            ],
            "application/vnd.google.colaboratory.intrinsic+json": {
              "type": "string"
            }
          },
          "metadata": {},
          "execution_count": 26
        }
      ]
    },
    {
      "cell_type": "code",
      "source": [
        ""
      ],
      "metadata": {
        "id": "p8GljhxMOIqF"
      },
      "execution_count": null,
      "outputs": []
    },
    {
      "cell_type": "code",
      "source": [
        "#from datetime import datetime\n",
        "\n",
        "date1 = datetime.datetime.strptime(\"20170501\", \"%Y%m%d\")\n",
        "date2 = datetime.datetime.strptime(\"20220501\", \"%Y%m%d\")\n",
        "date_diff = date2 - date1\n",
        "print(\"차이 :\", date_diff, \", Type :\", type(date_diff))\t# 차이 : 15 days, 21:51:33.170644 , Type : <class 'datetime.timedelta'>\n",
        "\n",
        "print(\"일 수 차이 :\", date_diff.days)\t# 일 수 차이 : 15"
      ],
      "metadata": {
        "colab": {
          "base_uri": "https://localhost:8080/"
        },
        "id": "T20AaQIHN0JT",
        "outputId": "c8da52ef-7c4c-44d0-9bfa-cee494b00305"
      },
      "execution_count": null,
      "outputs": [
        {
          "output_type": "stream",
          "name": "stdout",
          "text": [
            "차이 : 1826 days, 0:00:00 , Type : <class 'datetime.timedelta'>\n",
            "일 수 차이 : 1826\n"
          ]
        }
      ]
    },
    {
      "cell_type": "code",
      "source": [
        "\n",
        "date1 = datetime.datetime(2017,5,1)\n",
        "print(date1+datetime.timedelta(days=1826))"
      ],
      "metadata": {
        "colab": {
          "base_uri": "https://localhost:8080/"
        },
        "id": "QoxQhzfWOrLX",
        "outputId": "bbbbf9e5-c9aa-41fb-fd1c-f78e91f130d1"
      },
      "execution_count": null,
      "outputs": [
        {
          "output_type": "stream",
          "name": "stdout",
          "text": [
            "2022-05-01 00:00:00\n"
          ]
        }
      ]
    },
    {
      "cell_type": "code",
      "source": [
        "1827/7"
      ],
      "metadata": {
        "colab": {
          "base_uri": "https://localhost:8080/"
        },
        "id": "wz8nidSwPqX2",
        "outputId": "04abb733-7161-4b6f-9986-fd73aefe17b4"
      },
      "execution_count": null,
      "outputs": [
        {
          "output_type": "execute_result",
          "data": {
            "text/plain": [
              "261.0"
            ]
          },
          "metadata": {},
          "execution_count": 31
        }
      ]
    },
    {
      "cell_type": "code",
      "source": [
        "# 웹문서 자료를 가져와 가공하기\n",
        "\n",
        "date=datetime.datetime(2017,5,1)\n",
        "df=pd.DataFrame(columns={\"date\",\"rank\",\"bc\",\"program\", \"percent\"})\n",
        "df\n",
        "\n",
        "\n",
        "# 주간 크롤링\n",
        "for i in range(1,7+1):   \n",
        "  \n",
        "  url='https://www.nielsenkorea.co.kr/tv_terrestrial_day.asp?menu=Tit_1&sub_menu=1_1&area=00&begin_date='+date.strftime('%Y%m%d')\n",
        "\n",
        "  soup=bs(ur.urlopen(url).read(),'html.parser')\n",
        "\n",
        "\n",
        "  # 특정 태그에서 텍스트만 추출하기\n",
        "  rank=[]\n",
        "  for i in range(len(soup.find_all('td',{\"class\":\"tb_txt_center\"}))//2):\n",
        "    rank.append(soup.find_all('td',{\"class\":\"tb_txt_center\"})[2*i].text.replace('\\t',''))\n",
        "\n",
        "  bc=[]\n",
        "  for i in range(len(soup.find_all('td',{\"class\":\"tb_txt_center\"}))//2):\n",
        "    bc.append(soup.find_all('td',{\"class\":\"tb_txt_center\"})[2*i+1].text.replace('\\t',''))\n",
        "\n",
        "  program=[]\n",
        "  for i in range(len(soup.find_all('td',{\"class\":\"tb_txt\"}))):\n",
        "    program.append(soup.find_all('td',{\"class\":\"tb_txt\"})[i].text.replace('\\t',''))\n",
        "\n",
        "  percent=[]\n",
        "\n",
        "  for i in range(len(soup.find_all('td',{\"class\":\"percent\"}))):\n",
        "    percent.append(soup.find_all('td',{\"class\":\"percent\"})[i].text.strip())\n",
        "\n",
        "  for i in range(len(soup.find_all('td',{\"class\":\"percent_g\"}))):\n",
        "    percent.append(soup.find_all('td',{\"class\":\"percent_g\"})[i].text.strip())\n",
        "\n",
        "  # 데이터프레임에 담기 \n",
        "  tmp=pd.DataFrame({\"date\":[date]*len(rank),\"rank\":rank,\"bc\":bc, \"program\":program, \"percent\":percent})\n",
        "  #df.index=df.index+1\n",
        "  df=pd.concat([df,tmp])\n",
        "  date=date+datetime.timedelta(days=1)\n",
        "  # csv로 저장 \n",
        "#df.to_csv(\"/content/drive/MyDrive/Remote Internship/크롤링/2017/\"+str((date-datetime.timedelta(days=7)).strftime('%Y%m%d'))+\"_\"+str((date-datetime.timedelta(days=1)).strftime('%Y%m%d'))+\".csv\",header=False, index=False)\n",
        "df"
      ],
      "metadata": {
        "id": "S_-jKP3veAVu"
      },
      "execution_count": null,
      "outputs": []
    },
    {
      "cell_type": "markdown",
      "source": [
        "# Final\n"
      ],
      "metadata": {
        "id": "Zw0GFioxQgi6"
      }
    },
    {
      "cell_type": "code",
      "source": [
        "# 웹문서 자료를 가져와 가공하기   : 20170729까지\n",
        "startDay=20170501\n",
        "endDay=20170723\n",
        "\n",
        "date1 = datetime.datetime.strptime(str(startDay), \"%Y%m%d\")\n",
        "date2 = datetime.datetime.strptime(str(endDay), \"%Y%m%d\")\n",
        "date_diff = date2 - date1\n",
        "\n",
        "iteration= (date_diff.days+1)//7\n",
        "date=datetime.datetime(2017,5,1)                                                      # 첫 date값 : 20170501 ->2017,7,31\n",
        "\n",
        "for i in range(1,iteration+1):                                                        # 반복횟수\n",
        "\n",
        "  df=pd.DataFrame(columns={\"date\",\"rank\",\"bc\",\"program\", \"percent\"})\n",
        "  df\n",
        "\n",
        "\n",
        "  # 주간 크롤링\n",
        "  for i in range(1,7+1):   \n",
        "    \n",
        "    url='https://www.nielsenkorea.co.kr/tv_terrestrial_day.asp?menu=Tit_1&sub_menu=1_1&area=00&begin_date='+date.strftime('%Y%m%d')\n",
        "\n",
        "    soup=bs(ur.urlopen(url).read(),'html.parser')\n",
        "\n",
        "\n",
        "    # 특정 태그에서 텍스트만 추출하기\n",
        "    rank=[]\n",
        "    for i in range(len(soup.find_all('td',{\"class\":\"tb_txt_center\"}))//2):\n",
        "      rank.append(soup.find_all('td',{\"class\":\"tb_txt_center\"})[2*i].text.replace('\\t',''))\n",
        "\n",
        "    bc=[]\n",
        "    for i in range(len(soup.find_all('td',{\"class\":\"tb_txt_center\"}))//2):\n",
        "      bc.append(soup.find_all('td',{\"class\":\"tb_txt_center\"})[2*i+1].text.replace('\\t',''))\n",
        "\n",
        "    program=[]\n",
        "    for i in range(len(soup.find_all('td',{\"class\":\"tb_txt\"}))):\n",
        "      program.append(soup.find_all('td',{\"class\":\"tb_txt\"})[i].text.replace('\\t',''))\n",
        "\n",
        "    percent=[]\n",
        "\n",
        "    for i in range(len(soup.find_all('td',{\"class\":\"percent\"}))):\n",
        "      percent.append(soup.find_all('td',{\"class\":\"percent\"})[i].text.strip())\n",
        "\n",
        "    for i in range(len(soup.find_all('td',{\"class\":\"percent_g\"}))):\n",
        "      percent.append(soup.find_all('td',{\"class\":\"percent_g\"})[i].text.strip())\n",
        "\n",
        "    # 데이터프레임에 담기 \n",
        "    tmp=pd.DataFrame({\"date\":[date]*len(rank),\"rank\":rank,\"bc\":bc, \"program\":program, \"percent\":percent})\n",
        "    #df.index=df.index+1\n",
        "    df=pd.concat([df,tmp])\n",
        "    date=date+datetime.timedelta(days=1)\n",
        "    # csv로 저장 \n",
        "  df.to_csv(\"/content/drive/MyDrive/Remote Internship/크롤링/\"+str((date-datetime.timedelta(days=7)).strftime('%Y%m%d'))+\"_\"+str((date-datetime.timedelta(days=1)).strftime('%Y%m%d'))+\".csv\",header=True, index=False)\n",
        "  df"
      ],
      "metadata": {
        "id": "a3O8pcVxfAj6"
      },
      "execution_count": null,
      "outputs": []
    },
    {
      "cell_type": "code",
      "source": [
        "# 20170724~20170730\n",
        "startDay=20170724\n",
        "endDay=20170730\n",
        "\n",
        "date1 = datetime.datetime.strptime(str(startDay), \"%Y%m%d\")\n",
        "date2 = datetime.datetime.strptime(str(endDay), \"%Y%m%d\")\n",
        "date_diff = date2 - date1\n",
        "\n",
        "iteration= (date_diff.days+1)//7\n",
        "date=datetime.datetime(2017,7,24)                                                      # 첫 date값 : 20170724\n",
        "\n",
        "for i in range(1,iteration+1):                                                        # 반복횟수\n",
        "\n",
        "  df=pd.DataFrame(columns={\"date\",\"rank\",\"bc\",\"program\", \"percent\"})\n",
        "  df\n",
        "\n",
        "\n",
        "  # 주간 크롤링\n",
        "  for i in range(1,7+1):   \n",
        "    \n",
        "    url='https://www.nielsenkorea.co.kr/tv_terrestrial_day.asp?menu=Tit_1&sub_menu=1_1&area=00&begin_date='+date.strftime('%Y%m%d')\n",
        "\n",
        "    soup=bs(ur.urlopen(url).read(),'html.parser')\n",
        "\n",
        "    if i!=7:\n",
        "    # 특정 태그에서 텍스트만 추출하기\n",
        "      rank=[]\n",
        "      for i in range(len(soup.find_all('td',{\"class\":\"tb_txt_center\"}))//2):\n",
        "        rank.append(soup.find_all('td',{\"class\":\"tb_txt_center\"})[2*i].text.replace('\\t',''))\n",
        "\n",
        "      bc=[]\n",
        "      for i in range(len(soup.find_all('td',{\"class\":\"tb_txt_center\"}))//2):\n",
        "        bc.append(soup.find_all('td',{\"class\":\"tb_txt_center\"})[2*i+1].text.replace('\\t',''))\n",
        "\n",
        "      program=[]\n",
        "      for i in range(len(soup.find_all('td',{\"class\":\"tb_txt\"}))):\n",
        "        program.append(soup.find_all('td',{\"class\":\"tb_txt\"})[i].text.replace('\\t',''))\n",
        "\n",
        "      percent=[]\n",
        "\n",
        "      for i in range(len(soup.find_all('td',{\"class\":\"percent\"}))):\n",
        "        percent.append(soup.find_all('td',{\"class\":\"percent\"})[i].text.strip())\n",
        "\n",
        "      for i in range(len(soup.find_all('td',{\"class\":\"percent_g\"}))):\n",
        "        percent.append(soup.find_all('td',{\"class\":\"percent_g\"})[i].text.strip())\n",
        "\n",
        "    else:\n",
        "          # 특정 태그에서 텍스트만 추출하기\n",
        "      rank=[]\n",
        "      for i in range(len(soup.find_all('td',{\"class\":\"tb_txt_center\"}))//4):\n",
        "        rank.append(soup.find_all('td',{\"class\":\"tb_txt_center\"})[2*i].text.replace('\\t',''))\n",
        "\n",
        "      bc=[]\n",
        "      for i in range(len(soup.find_all('td',{\"class\":\"tb_txt_center\"}))//4):\n",
        "        bc.append(soup.find_all('td',{\"class\":\"tb_txt_center\"})[2*i+1].text.replace('\\t',''))\n",
        "\n",
        "      program=[]\n",
        "      for i in range(len(soup.find_all('td',{\"class\":\"tb_txt\"}))//2):\n",
        "        program.append(soup.find_all('td',{\"class\":\"tb_txt\"})[i].text.replace('\\t',''))\n",
        "\n",
        "      percent=[]\n",
        "\n",
        "      for i in range(len(soup.find_all('td',{\"class\":\"percent\"}))//2):\n",
        "        percent.append(soup.find_all('td',{\"class\":\"percent\"})[i].text.strip())\n",
        "\n",
        "      for i in range(len(soup.find_all('td',{\"class\":\"percent_g\"}))//2):\n",
        "        percent.append(soup.find_all('td',{\"class\":\"percent_g\"})[i].text.strip())\n",
        "\n",
        "    # 데이터프레임에 담기 \n",
        "    tmp=pd.DataFrame({\"date\":[date]*len(rank),\"rank\":rank,\"bc\":bc, \"program\":program, \"percent\":percent})\n",
        "    #df.index=df.index+1\n",
        "    df=pd.concat([df,tmp])\n",
        "    date=date+datetime.timedelta(days=1)\n",
        "\n",
        "    # csv로 저장 \n",
        "  df.to_csv(\"/content/drive/MyDrive/Remote Internship/크롤링/\"+str((date-datetime.timedelta(days=7)).strftime('%Y%m%d'))+\"_\"+str((date-datetime.timedelta(days=1)).strftime('%Y%m%d'))+\".csv\",header=True, index=False)\n",
        "  df\n"
      ],
      "metadata": {
        "id": "rsA_HbgVm2Kb"
      },
      "execution_count": null,
      "outputs": []
    },
    {
      "cell_type": "markdown",
      "source": [
        "todo : 20210125~20220131제외하고 완료"
      ],
      "metadata": {
        "id": "-2BPb9zOomVw"
      }
    },
    {
      "cell_type": "code",
      "source": [
        "# 웹문서 자료를 가져와 가공하기   : 2017,7,31~\n",
        "startDay=20220425\n",
        "endDay=20220502\n",
        "\n",
        "date1 = datetime.datetime.strptime(str(startDay), \"%Y%m%d\")\n",
        "date2 = datetime.datetime.strptime(str(endDay), \"%Y%m%d\")\n",
        "date_diff = date2 - date1\n",
        "\n",
        "iteration= (date_diff.days+1)//7\n",
        "date=datetime.datetime(2022,4,25)                                                      # 첫 date값 : 20170501 ->2017,7,31\n",
        "\n",
        "for i in range(1,iteration+1):                                                        # 반복횟수\n",
        "\n",
        "  df=pd.DataFrame(columns={\"date\",\"rank\",\"bc\",\"program\", \"percent\"})\n",
        "  df\n",
        "\n",
        "\n",
        "  # 주간 크롤링\n",
        "  for i in range(1,7+1):   \n",
        "    \n",
        "    url='https://www.nielsenkorea.co.kr/tv_terrestrial_day.asp?menu=Tit_1&sub_menu=1_1&area=00&begin_date='+date.strftime('%Y%m%d')\n",
        "\n",
        "    soup=bs(ur.urlopen(url).read(),'html.parser')\n",
        "\n",
        "\n",
        "    # 특정 태그에서 텍스트만 추출하기\n",
        "    rank=[]\n",
        "    for i in range(len(soup.find_all('td',{\"class\":\"tb_txt_center\"}))//4):\n",
        "      rank.append(soup.find_all('td',{\"class\":\"tb_txt_center\"})[2*i].text.replace('\\t',''))\n",
        "\n",
        "    bc=[]\n",
        "    for i in range(len(soup.find_all('td',{\"class\":\"tb_txt_center\"}))//4):\n",
        "      bc.append(soup.find_all('td',{\"class\":\"tb_txt_center\"})[2*i+1].text.replace('\\t',''))\n",
        "\n",
        "    program=[]\n",
        "    for i in range(len(soup.find_all('td',{\"class\":\"tb_txt\"}))//2):\n",
        "      program.append(soup.find_all('td',{\"class\":\"tb_txt\"})[i].text.replace('\\t',''))\n",
        "\n",
        "    percent=[]\n",
        "\n",
        "    for i in range(len(soup.find_all('td',{\"class\":\"percent\"}))//2):\n",
        "      percent.append(soup.find_all('td',{\"class\":\"percent\"})[i].text.strip())\n",
        "\n",
        "    for i in range(len(soup.find_all('td',{\"class\":\"percent_g\"}))//2):\n",
        "      percent.append(soup.find_all('td',{\"class\":\"percent_g\"})[i].text.strip())\n",
        "\n",
        "    # 데이터프레임에 담기 \n",
        "    tmp=pd.DataFrame({\"date\":[date]*len(rank),\"rank\":rank,\"bc\":bc, \"program\":program, \"percent\":percent})\n",
        "    #df.index=df.index+1\n",
        "    df=pd.concat([df,tmp])\n",
        "    date=date+datetime.timedelta(days=1)\n",
        "    # csv로 저장 \n",
        "  df.to_csv(\"/content/drive/MyDrive/Remote Internship/크롤링/\"+str((date-datetime.timedelta(days=7)).strftime('%Y%m%d'))+\"_\"+str((date-datetime.timedelta(days=1)).strftime('%Y%m%d'))+\".csv\",header=True, index=False)\n",
        "  df"
      ],
      "metadata": {
        "id": "oIVZxwJRoQlc"
      },
      "execution_count": null,
      "outputs": []
    },
    {
      "cell_type": "code",
      "source": [
        "startDay=20210125\n",
        "endDay=20220501\n",
        "\n",
        "date1 = datetime.datetime.strptime(str(startDay), \"%Y%m%d\")\n",
        "date2 = datetime.datetime.strptime(str(endDay), \"%Y%m%d\")\n",
        "date_diff = date2 - date1\n",
        "\n",
        "iteration= (date_diff.days+1)//7\n",
        "date=datetime.datetime(2021,1,25)   \n",
        "print(date.strftime('%Y%m%d'))"
      ],
      "metadata": {
        "colab": {
          "base_uri": "https://localhost:8080/"
        },
        "id": "mR6CV3ion6ad",
        "outputId": "c1591731-e6f5-4dcc-c4a4-cef8d325eea0"
      },
      "execution_count": null,
      "outputs": [
        {
          "output_type": "stream",
          "name": "stdout",
          "text": [
            "20210125\n"
          ]
        }
      ]
    }
  ]
}